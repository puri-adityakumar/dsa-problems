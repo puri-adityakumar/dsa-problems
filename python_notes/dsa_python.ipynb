{
 "cells": [
  {
   "cell_type": "markdown",
   "metadata": {},
   "source": [
    "# Strings"
   ]
  },
  {
   "cell_type": "markdown",
   "metadata": {},
   "source": [
    "**Key Things About Strings**\n",
    "- Strings are immutable (can’t be changed after creation)\n",
    "- Defined with single, double, or triple quotes\n",
    "- Can be concatenated and repeated using + and *"
   ]
  },
  {
   "cell_type": "markdown",
   "metadata": {},
   "source": [
    "**String Slicing & Slicing with Skip Value**\n",
    "- `str[start:stop]` slices from index start to stop - 1\n",
    "- `str[start:stop:step]` skips characters using step"
   ]
  },
  {
   "cell_type": "code",
   "execution_count": null,
   "metadata": {},
   "outputs": [],
   "source": [
    "s = \"PythonProgramming\"\n",
    "print(s[0:6])\n",
    "print(s[0:10:2])"
   ]
  },
  {
   "cell_type": "markdown",
   "metadata": {},
   "source": [
    "**String Functions**\n",
    "\n",
    "- `len(s)` – Returns the number of characters in the string.\n",
    "- `s.lower()` – Converts all characters to lowercase.\n",
    "- `s.upper()` – Converts all characters to uppercase.\n",
    "- `s.strip()` – Removes leading and trailing whitespace.\n",
    "- `s.replace(old, new)` – Replaces all occurrences of a substring.\n",
    "- `s.find(sub)` – Returns the first index of the substring, or -1 if not found.\n",
    "- `s.count(sub)` – Counts occurrences of a substring in the string.\n",
    "- `s.capitalize()` – Capitalizes the first letter of the string.\n",
    "- `s.isalpha()` – Returns `True` if all characters are alphabetic.\n",
    "- `s.isdigit()` – Returns `True` if all characters are digits.\n",
    "- `s.isalnum()` – Returns `True` if all characters are alphanumeric.\n",
    "- `s.isspace()` – Returns `True` if the string contains only whitespace."
   ]
  },
  {
   "cell_type": "code",
   "execution_count": null,
   "metadata": {},
   "outputs": [],
   "source": [
    "s = \"  Hello Python  \"\n",
    "print(len(s))\n",
    "print(s.lower())\n",
    "print(s.upper())\n",
    "print(s.strip())\n",
    "print(s.replace(\"Python\", \"World\"))\n",
    "print(s.find(\"Python\"))\n",
    "print(s.count(\"l\"))\n"
   ]
  },
  {
   "cell_type": "markdown",
   "metadata": {},
   "source": [
    "**Escape Sequence Characters**\n",
    "- Special characters using backslash `\\`\n",
    "- `\\n` (newline), `\\t` (tab), `\\\\` (backslash), `\\'` , `\\\"`"
   ]
  },
  {
   "cell_type": "code",
   "execution_count": null,
   "metadata": {},
   "outputs": [],
   "source": [
    "msg = \"Dear User,\\n\\tWelcome to Python!\\nThanks\\\\Regards\"\n",
    "print(msg)\n"
   ]
  },
  {
   "cell_type": "markdown",
   "metadata": {},
   "source": [
    "# Lists and Tuples"
   ]
  },
  {
   "cell_type": "markdown",
   "metadata": {},
   "source": [
    "## Lists\n",
    "**Key Points About Lists**\n",
    "- Ordered, mutable (can be changed)\n",
    "- Defined using square brackets []\n",
    "- Can contain mixed data types\n",
    "\n",
    "**List Methods – One-Liner Descriptions**\n",
    "- `list.sort()` – Sorts the list in ascending order.\n",
    "- `list.reverse()` – Reverses the list in-place.\n",
    "- `list.append(x)` – Adds item `x` to the end of the list.\n",
    "- `list.insert(i, x)` – Inserts item `x` at index `i`.\n",
    "- `list.pop(i)` – Removes and returns the item at index `i`.\n",
    "- `list.remove(x)` – Removes the first occurrence of item `x`.\n",
    "\n"
   ]
  },
  {
   "cell_type": "code",
   "execution_count": null,
   "metadata": {},
   "outputs": [],
   "source": [
    "l1 = [4, 2, 9, 1]\n",
    "l1.sort()\n",
    "print(l1)  # [1, 2, 4, 9]\n",
    "\n",
    "l2 = [1, 2, 3]\n",
    "l2.reverse()\n",
    "print(l2)  # [3, 2, 1]\n",
    "\n",
    "l3 = [1, 2]\n",
    "l3.append(3)\n",
    "print(l3)  # [1, 2, 3]\n",
    "\n",
    "l4 = [1, 2, 4]\n",
    "l4.insert(2, 3)\n",
    "print(l4)  # [1, 2, 3, 4]\n",
    "\n",
    "l5 = [1, 2, 3]\n",
    "print(l5.pop(1))  # 2\n",
    "print(l5)         # [1, 3]\n",
    "\n",
    "l6 = [1, 2, 2, 3]\n",
    "l6.remove(2)\n",
    "print(l6)  # [1, 2, 3]\n"
   ]
  },
  {
   "cell_type": "markdown",
   "metadata": {},
   "source": [
    "## **Tuples**\n",
    "\n",
    "**Key Points About Tuples**\n",
    "- Ordered, immutable (cannot be changed)\n",
    "- Defined using parentheses `()`\n",
    "- Can contain mixed data types\n",
    "- Faster and more memory-efficient than lists\n",
    "- Used when data should not be modified\n",
    "\n",
    "**Tuple Methods – One-Liner Descriptions**\n",
    "- `tuple.count(x)` – Returns the number of times item `x` appears in the tuple.\n",
    "- `tuple.index(x)` – Returns the index of the first occurrence of item `x`.\n"
   ]
  },
  {
   "cell_type": "code",
   "execution_count": null,
   "metadata": {},
   "outputs": [],
   "source": [
    "a = (1, 7, 2, 1)\n",
    "\n",
    "print(a.count(1))   # 2\n",
    "print(a.index(7))   # 1"
   ]
  },
  {
   "cell_type": "markdown",
   "metadata": {},
   "source": [
    "# Dictionary & Sets"
   ]
  },
  {
   "cell_type": "markdown",
   "metadata": {},
   "source": [
    "## Dictionary\n",
    "1. It is unordered.\n",
    "2. It is mutable.\n",
    "3. It is indexed.\n",
    "4. Cannot contain duplicate keys\n",
    "\n",
    "**DICTIONARY METHODS**\n",
    "\n",
    "### **🔹 One-Liner Descriptions**\n",
    "- `dict.get(key)` – Returns the value for `key`, or `None` if the key doesn’t exist.\n",
    "- `dict.keys()` – Returns a view of all keys in the dictionary.\n",
    "- `dict.values()` – Returns a view of all values in the dictionary.\n",
    "- `dict.items()` – Returns a view of all key-value pairs as tuples.\n",
    "- `dict.update(other_dict)` – Updates the dictionary with key-value pairs from another dictionary.\n",
    "- `dict.pop(key)` – Removes and returns the value for the specified key.\n",
    "- `dict.clear()` – Removes all items from the dictionary.\n"
   ]
  },
  {
   "cell_type": "code",
   "execution_count": null,
   "metadata": {},
   "outputs": [],
   "source": [
    "student = {\"name\": \"Alice\", \"age\": 21, \"course\": \"Python\"}\n",
    "\n",
    "print(student.get(\"name\"))        # Alice\n",
    "print(student.keys())             # dict_keys(['name', 'age', 'course'])\n",
    "print(student.values())           # dict_values(['Alice', 21, 'Python'])\n",
    "print(student.items())            # dict_items([('name', 'Alice'), ('age', 21), ('course', 'Python')])\n",
    "\n",
    "student.update({\"age\": 22})\n",
    "print(student)                    # {'name': 'Alice', 'age': 22, 'course': 'Python'}\n",
    "\n",
    "student.pop(\"course\")\n",
    "print(student)                    # {'name': 'Alice', 'age': 22}\n",
    "\n",
    "student.clear()\n",
    "print(student)                    # {}"
   ]
  },
  {
   "cell_type": "markdown",
   "metadata": {},
   "source": [
    "## Sets\n",
    "Set is a collection of non-repetitive elements\n",
    "1. Sets are unordered => Element’s order doesn’t matter\n",
    "2. Sets are unindexed => Cannot access elements by index\n",
    "3. There is no way to change items in sets.\n",
    "4. Sets cannot contain duplicate values.\n",
    "\n",
    "**OPERATIONS ON SETS**\n",
    "Consider the following set:\n",
    "`s = {1,8,2,3}`\n",
    "- `len(s)`: Returns 4, the length of the set\n",
    "- `s.remove(8)`: Updates the set s and removes 8 from s.\n",
    "- `s.pop()`: Removes an arbitrary element from the set and return the element\n",
    "removed.\n",
    "- `s.clear()`:empties the set s.\n",
    "- `s.union({8,11})`: Returns a new set with all items from both sets. {1,8,2,3,11}.\n",
    "- `s.intersection({8,11})`: Return a set which contains only item in both sets {8}."
   ]
  },
  {
   "cell_type": "code",
   "execution_count": null,
   "metadata": {},
   "outputs": [],
   "source": [
    "s = {1, 8, 2, 3}\n",
    "\n",
    "print(\"set:\", s)\n",
    "print(\"length:\", len(s))\n",
    "s.remove(8)\n",
    "print(\"Updated set:\", s)\n",
    "print(\"removed element:\",s.pop())\n",
    "print(\"Updated set:\", s)\n",
    "print(s.union({8, 11}))\n",
    "s.clear()\n",
    "print(\"Updated set:\", s)\n"
   ]
  },
  {
   "cell_type": "markdown",
   "metadata": {},
   "source": [
    "# Linked List"
   ]
  },
  {
   "cell_type": "markdown",
   "metadata": {},
   "source": [
    "\n",
    "\n",
    "**What is a Linked List?**\n",
    "- A **linked list** is a linear data structure where elements (nodes) are stored in **non-contiguous memory** and connected via **pointers**.\n",
    "\n",
    "**Why Linked Lists?**\n",
    "\n",
    "1. Ease of Insertion and Deletion\n",
    "- Insertion/deletion at arbitrary positions is efficient (O(1) with direct access).\n",
    "- No need to shift elements as in arrays or lists.\n",
    "\n",
    "2. Dynamic Size\n",
    "- Linked lists can **grow/shrink** without reallocation.\n",
    "- Ideal for data that changes size frequently.\n",
    "\n",
    "3. Memory Efficiency\n",
    "- Memory is allocated **per element**, not in a large block.\n",
    "- Reduces wasted memory and avoids costly resizing.\n",
    "\n",
    "**When Should You Use Linked Lists?**\n",
    "\n",
    "- When you need to **frequently insert/delete** elements.\n",
    "- When the **data size is unpredictable** or varies often.\n",
    "- When **random access** (like `arr[i]`) is **not needed**.\n",
    "- When elements are **large structures**, minimizing memory copies is important."
   ]
  },
  {
   "cell_type": "markdown",
   "metadata": {},
   "source": [
    "\n",
    "### **Singly-Linked List**\n",
    "\n",
    "- A **singly-linked list** is a basic linked list where each node points only to the **next node**.\n",
    "- Traversal is **unidirectional** — from **head to tail**.\n",
    "- Each node has:\n",
    "  - **Data**: Stores the value.\n",
    "  - **Next pointer**: Refers to the next node (null at the end).\n",
    "- **Accessing elements** requires linear traversal from the head → O(n).\n",
    "- **Insertion/deletion at the beginning** is fast → O(1).\n",
    "- **Insertion/deletion in the middle/end** is slower → O(n).\n",
    "- Best used when most operations occur **at the start** of the list.\n"
   ]
  },
  {
   "cell_type": "code",
   "execution_count": null,
   "metadata": {},
   "outputs": [],
   "source": []
  },
  {
   "cell_type": "markdown",
   "metadata": {},
   "source": [
    "### **Doubly-Linked List**\n",
    "\n",
    "- A **doubly-linked list** allows **bidirectional traversal** using two pointers per node.\n",
    "- **Singly-linked lists** can’t move backward — a major limitation.\n",
    "- Each node contains:\n",
    "  - **Data**: The stored value.\n",
    "  - **Next pointer**: Points to the next node.\n",
    "  - **Previous pointer**: Points to the previous node.\n",
    "- Enables efficient operations that require **navigation in both directions**.\n",
    "- More flexible than singly-linked lists at the cost of **extra memory per node**."
   ]
  },
  {
   "cell_type": "markdown",
   "metadata": {},
   "source": [
    "### **Circular Linked List**\n",
    "\n",
    "- A **circular linked list** loops back — the last node points to the **first node**.\n",
    "- No `null` at the end — the list forms a **closed loop**.\n",
    "- Can be **singly** or **doubly** linked, with circular behavior.\n",
    "- Ideal for **continuous looping scenarios** (e.g., board games, round-robin scheduling).\n",
    "- Enables **endless traversal** without hitting a null, simplifying cyclic processes."
   ]
  },
  {
   "cell_type": "markdown",
   "metadata": {},
   "source": [
    "# Time-Complexity"
   ]
  },
  {
   "cell_type": "markdown",
   "metadata": {},
   "source": [
    "###  **Array vs Linked List – Time Complexity Comparison**\n",
    "\n",
    "| **Operation**                        | **Array**              | **Linked List**         |\n",
    "|-------------------------------------|-------------------------|--------------------------|\n",
    "| **Indexing**                        | O(1)                   | O(n)                    |\n",
    "| **Insert/Delete Element at Start**  | O(n)                   | O(1)                    |\n",
    "| **Insert/Delete Element at End**    | O(1) – amortized       | O(n)                    |\n",
    "| **Insert Element in Middle**        | O(n)                   | O(n)                    |\n",
    "\n"
   ]
  }
 ],
 "metadata": {
  "language_info": {
   "name": "python"
  }
 },
 "nbformat": 4,
 "nbformat_minor": 2
}
