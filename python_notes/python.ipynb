{
 "cells": [
  {
   "cell_type": "markdown",
   "metadata": {},
   "source": [
    "# Python Basics\n",
    "\n",
    "Core concepts of Python programming language."
   ]
  },
  {
   "cell_type": "markdown",
   "metadata": {},
   "source": [
    "## 1. Input/Output\n",
    "\n",
    "- `print()`: Display output to console\n",
    "- `input()`: Read user input as string"
   ]
  },
  {
   "cell_type": "code",
   "execution_count": null,
   "metadata": {},
   "outputs": [],
   "source": [
    "# Basic output\n",
    "print(\"Hello There!\")\n",
    "\n",
    "# Input with prompt\n",
    "name = input(\"Enter your name: \")\n",
    "print(f'Hello {name}!')"
   ]
  },
  {
   "cell_type": "markdown",
   "metadata": {},
   "source": [
    "## 2. Data Types\n",
    "\n",
    "Common Python data types:\n",
    "- `int`: Integers (1, -5, 1000)\n",
    "- `float`: Decimal numbers (3.14, -0.001)\n",
    "- `str`: Text strings (\"Hello\")\n",
    "- `bool`: Boolean values (True/False)"
   ]
  },
  {
   "cell_type": "code",
   "execution_count": null,
   "metadata": {},
   "outputs": [],
   "source": [
    "# Data type examples\n",
    "number = 42            # int\n",
    "pi = 3.14159          # float\n",
    "text = \"Python\"       # str\n",
    "is_valid = True       # bool\n",
    "\n",
    "# Check types\n",
    "print(type(number))\n",
    "print(type(text))"
   ]
  },
  {
   "cell_type": "markdown",
   "metadata": {},
   "source": [
    "### Type Conversion\n",
    "\n",
    "Convert between data types using:\n",
    "- `str()`: Convert to string\n",
    "- `int()`: Convert to integer\n",
    "- `float()`: Convert to float\n",
    "- `bool()`: Convert to boolean"
   ]
  },
  {
   "cell_type": "code",
   "execution_count": null,
   "metadata": {},
   "outputs": [],
   "source": [
    "# Type conversion examples\n",
    "num_str = \"42\"\n",
    "num_int = int(num_str)      # String to Integer\n",
    "num_float = float(num_str)   # String to Float\n",
    "\n",
    "# Converting numbers to string\n",
    "price = 19.99\n",
    "price_str = str(price)       # Float to String\n",
    "\n",
    "# Common conversion patterns\n",
    "user_input = input(\"Enter a number: \")  # Returns string\n",
    "calculated_value = int(user_input) * 2  # Convert to int for calculation\n",
    "print(f\"Result: {calculated_value}\")"
   ]
  },
  {
   "cell_type": "markdown",
   "metadata": {},
   "source": [
    "## 3. Variables\n",
    "\n",
    "Variables store data and can be modified during program execution.\n",
    "\n",
    "Rules for variable names:\n",
    "- Must start with letter or underscore\n",
    "- Can contain letters, numbers, underscores\n",
    "- Case-sensitive (`name` ≠ `Name`)\n",
    "- Cannot use Python keywords"
   ]
  },
  {
   "cell_type": "code",
   "execution_count": null,
   "metadata": {},
   "outputs": [],
   "source": [
    "# Variable assignment\n",
    "age = 25                  # Integer assignment\n",
    "name = \"John\"            # String assignment\n",
    "height = 1.75            # Float assignment\n",
    "\n",
    "# Multiple assignment\n",
    "x, y, z = 1, 2, 3        # Assign multiple values at once\n",
    "\n",
    "# Variable reassignment\n",
    "counter = 0\n",
    "counter = counter + 1     # Now counter is 1\n",
    "counter += 1              # Shorthand for counter = counter + 1\n",
    "\n",
    "# Variable type can change\n",
    "variable = 100            # Integer\n",
    "variable = \"hundred\"      # Now it's a string\n",
    "\n",
    "print(f\"Current value: {variable}, Type: {type(variable)}\")"
   ]
  },
  {
   "cell_type": "markdown",
   "metadata": {},
   "source": [
    "## 4. Operators\n"
   ]
  },
  {
   "cell_type": "markdown",
   "metadata": {},
   "source": [
    "### Arithmetic Operators\n",
    "- `+` : Addition\n",
    "- `-` : Subtraction\n",
    "- `*` : Multiplication\n",
    "- `/` : Division (float result)\n",
    "- `//`: Floor division (integer result)\n",
    "- `%` : Modulus (remainder)\n",
    "- `**`: Exponentiation\n",
    "\n",
    "### Comparison Operators\n",
    "- `==`: Equal to\n",
    "- `!=`: Not equal to\n",
    "- `>` : Greater than\n",
    "- `<` : Less than\n",
    "- `>=`: Greater than or equal to\n",
    "- `<=`: Less than or equal to\n",
    "\n",
    "### Logical Operators\n",
    "- `and`: True if both operands are True\n",
    "- `or` : True if at least one operand is True\n",
    "- `not`: Inverts the boolean value"
   ]
  },
  {
   "cell_type": "code",
   "execution_count": null,
   "metadata": {},
   "outputs": [],
   "source": [
    "# Arithmetic examples\n",
    "a, b = 10, 3\n",
    "print(f\"Addition: {a + b}\")       # 13\n",
    "print(f\"Division: {a / b}\")       # 3.333...\n",
    "print(f\"Floor Division: {a // b}\") # 3\n",
    "print(f\"Modulus: {a % b}\")        # 1\n",
    "print(f\"Power: {a ** 2}\")         # 100\n",
    "\n",
    "# Comparison examples\n",
    "x, y = 5, 10\n",
    "print(x < y)    # True\n",
    "print(x == y)   # False\n",
    "\n",
    "# Logical examples\n",
    "is_sunny = True\n",
    "is_warm = True\n",
    "print(is_sunny and is_warm)  # True\n",
    "print(not is_sunny)          # False"
   ]
  },
  {
   "cell_type": "markdown",
   "metadata": {},
   "source": [
    "## 5. Math Operations\n",
    "\n",
    "Python's `math` module provides additional mathematical functions:"
   ]
  },
  {
   "cell_type": "code",
   "execution_count": null,
   "metadata": {},
   "outputs": [],
   "source": [
    "import math\n",
    "\n",
    "# Common math operations\n",
    "print(f\"Square root: {math.sqrt(16)}\")     # 4.0\n",
    "print(f\"Ceiling: {math.ceil(3.2)}\")        # 4\n",
    "print(f\"Floor: {math.floor(3.8)}\")         # 3\n",
    "print(f\"Pi: {math.pi}\")                    # 3.141592...\n",
    "print(f\"Sin(30°): {math.sin(math.radians(30))}\")\n",
    "\n",
    "# Absolute value and rounding\n",
    "print(f\"Absolute: {abs(-5)}\")             # 5\n",
    "print(f\"Round: {round(3.14159, 2)}\")      # 3.14"
   ]
  },
  {
   "cell_type": "markdown",
   "metadata": {},
   "source": [
    "## 6. Control Flow\n",
    "\n",
    "### Conditional Statements\n",
    "Control program flow using conditions:\n",
    "- `if`: Execute code if condition is True\n",
    "- `elif`: Check another condition if previous was False\n",
    "- `else`: Execute if all conditions are False\n",
    "\n",
    "### Loops\n",
    "- `for`: Iterate over a sequence\n",
    "- `while`: Repeat while condition is True\n",
    "- `break`: Exit the loop\n",
    "- `continue`: Skip to next iteration"
   ]
  },
  {
   "cell_type": "code",
   "execution_count": null,
   "metadata": {},
   "outputs": [],
   "source": [
    "# Conditional statements\n",
    "age = 18\n",
    "\n",
    "if age < 13:\n",
    "    print(\"Child\")\n",
    "elif age < 20:\n",
    "    print(\"Teenager\")\n",
    "else:\n",
    "    print(\"Adult\")\n",
    "\n",
    "# For loop with range\n",
    "for i in range(5):    # 0 to 4\n",
    "    print(i, end=' ')\n",
    "\n",
    "# For loop with list\n",
    "fruits = ['apple', 'banana', 'cherry']\n",
    "for fruit in fruits:\n",
    "    print(fruit)\n",
    "\n",
    "# Using enumerate\n",
    "for index, fruit in enumerate(fruits):\n",
    "    print(f\"{index}: {fruit}\")\n",
    "\n",
    "# While loop\n",
    "counter = 0\n",
    "while counter < 3:\n",
    "    print(counter)\n",
    "    counter += 1"
   ]
  },
  {
   "cell_type": "code",
   "execution_count": null,
   "metadata": {},
   "outputs": [],
   "source": [
    "# Break and Continue examples\n",
    "\n",
    "# Break example\n",
    "for i in range(10):\n",
    "    if i == 5:\n",
    "        break        # Exit loop when i is 5\n",
    "    print(i)\n",
    "\n",
    "# Continue example\n",
    "for i in range(5):\n",
    "    if i == 2:\n",
    "        continue    # Skip printing 2\n",
    "    print(i)\n",
    "\n",
    "# Nested loops with break\n",
    "for i in range(3):\n",
    "    for j in range(3):\n",
    "        if j == 2:\n",
    "            break\n",
    "        print(f\"({i},{j})\")"
   ]
  },
  {
   "cell_type": "markdown",
   "metadata": {},
   "source": [
    "## 7. Data Structures\n",
    "\n",
    "Common Python data structures for storing collections of data."
   ]
  },
  {
   "cell_type": "markdown",
   "metadata": {},
   "source": [
    "### Lists\n",
    "Ordered, mutable sequence of elements\n",
    "- Created using `[]` or `list()`\n",
    "- Access elements by index `[i]`\n",
    "- Common methods: `append()`, `insert()`, `remove()`, `pop()`\n",
    "- Support slicing and list comprehensions"
   ]
  },
  {
   "cell_type": "code",
   "execution_count": 3,
   "metadata": {},
   "outputs": [
    {
     "name": "stdout",
     "output_type": "stream",
     "text": [
      "1\n",
      "[0, 1, 2, 3, 4, 5, 6, 7, 8]\n",
      "[1, 2, 1, 2, 1, 2]\n"
     ]
    }
   ],
   "source": [
    "# Creating lists\n",
    "numbers = [1, 2, 3, 4, 5]\n",
    "mixed = [1, \"hello\", 3.14, True]\n",
    "\n",
    "# List operations\n",
    "print(numbers[0])          # Access first element\n",
    "numbers.append(6)          # Add element\n",
    "numbers.insert(0, 0)       # Insert at index\n",
    "\n",
    "# List comprehension\n",
    "squares = [x**2 for x in range(5)]\n",
    "\n",
    "# Operations\n",
    "combined = numbers + [7, 8]  # Concatenation\n",
    "repeated = [1, 2] * 3        # Repetition\n",
    "print(combined)\n",
    "print(repeated)"
   ]
  },
  {
   "cell_type": "markdown",
   "metadata": {},
   "source": [
    "### Dictionaries\n",
    "Key-value pairs, unordered collection\n",
    "- Created using `{}` or `dict()`\n",
    "- Access values using keys\n",
    "- Mutable: can add/remove pairs\n",
    "- Keys must be immutable"
   ]
  },
  {
   "cell_type": "code",
   "execution_count": null,
   "metadata": {},
   "outputs": [],
   "source": [
    "# Creating dictionary\n",
    "person = {\n",
    "    'name': 'John',\n",
    "    'age': 30,\n",
    "    'city': 'New York'\n",
    "}\n",
    "\n",
    "# Dictionary operations\n",
    "print(person['name'])      # Access value\n",
    "person['email'] = 'john@example.com'  # Add pair\n",
    "del person['city']         # Remove pair\n",
    "\n",
    "# Iterating\n",
    "for key in person.keys():         # Get keys\n",
    "for value in person.values():     # Get values\n",
    "for key, value in person.items(): # Get both"
   ]
  },
  {
   "cell_type": "markdown",
   "metadata": {},
   "source": [
    "### Tuples\n",
    "Immutable sequences\n",
    "- Created using `()` or `tuple()`\n",
    "- Cannot be modified after creation\n",
    "- Often used for fixed collections"
   ]
  },
  {
   "cell_type": "code",
   "execution_count": null,
   "metadata": {},
   "outputs": [],
   "source": [
    "# Creating tuples\n",
    "coordinates = (10, 20)\n",
    "single_item = (1,)        # Comma needed for single item\n",
    "\n",
    "# Tuple operations\n",
    "x, y = coordinates        # Unpacking\n",
    "print(coordinates[0])     # Access element\n",
    "\n",
    "# Cannot modify\n",
    "# coordinates[0] = 30     # This would raise an error"
   ]
  },
  {
   "cell_type": "markdown",
   "metadata": {},
   "source": [
    "### Sets\n",
    "Unordered collection of unique elements\n",
    "- Created using `{}` or `set()`\n",
    "- No duplicates allowed\n",
    "- Supports mathematical set operations\n",
    "- `frozenset`: immutable version of set"
   ]
  },
  {
   "cell_type": "code",
   "execution_count": null,
   "metadata": {},
   "outputs": [],
   "source": [
    "# Creating sets\n",
    "numbers = {1, 2, 3, 2}    # Duplicate removed\n",
    "chars = set('hello')       # Set from string\n",
    "\n",
    "# Set operations\n",
    "numbers.add(4)             # Add element\n",
    "numbers.remove(1)          # Remove element\n",
    "\n",
    "# Frozenset (immutable)\n",
    "frozen = frozenset([1, 2, 3])\n",
    "\n",
    "# Set operations\n",
    "a = {1, 2, 3}\n",
    "b = {3, 4, 5}\n",
    "print(a | b)               # Union\n",
    "print(a & b)               # Intersection"
   ]
  },
  {
   "cell_type": "markdown",
   "metadata": {},
   "source": [
    "## 8. Functions\n",
    "\n",
    "Reusable blocks of code that perform specific tasks."
   ]
  },
  {
   "cell_type": "markdown",
   "metadata": {},
   "source": [
    "### Function Definition\n",
    "- Use `def` keyword to define functions\n",
    "- Can have parameters (inputs)\n",
    "- Can return values using `return`\n",
    "- Parameters can have default values"
   ]
  },
  {
   "cell_type": "code",
   "execution_count": null,
   "metadata": {},
   "outputs": [],
   "source": [
    "# Basic function definition\n",
    "def greet(name):\n",
    "    return f\"Hello, {name}!\"\n",
    "\n",
    "# Function with default parameter\n",
    "def power(base, exponent=2):\n",
    "    return base ** exponent\n",
    "\n",
    "# Multiple parameters\n",
    "def add_numbers(a, b, c):\n",
    "    return a + b + c\n",
    "\n",
    "# Calling functions\n",
    "print(greet(\"Alice\"))\n",
    "print(power(4))      # Uses default exponent\n",
    "print(power(2, 3))   # Custom exponent"
   ]
  },
  {
   "cell_type": "markdown",
   "metadata": {},
   "source": [
    "### Function Documentation\n",
    "- Use docstrings to document functions\n",
    "- Triple quotes for multi-line documentation\n",
    "- Describe parameters and return values"
   ]
  },
  {
   "cell_type": "code",
   "execution_count": null,
   "metadata": {},
   "outputs": [],
   "source": [
    "def calculate_area(length, width):\n",
    "    \"\"\"Calculate area of a rectangle.\n",
    "    \n",
    "    Args:\n",
    "        length (float): The length of rectangle\n",
    "        width (float): The width of rectangle\n",
    "    \n",
    "    Returns:\n",
    "        float: Area of the rectangle\n",
    "    \"\"\"\n",
    "    return length * width\n",
    "\n",
    "# Access documentation\n",
    "print(calculate_area.__doc__)"
   ]
  },
  {
   "cell_type": "markdown",
   "metadata": {},
   "source": [
    "### Variable Scope\n",
    "- Local scope: Variables inside functions\n",
    "- Global scope: Variables outside functions\n",
    "- Use `global` keyword to modify global variables"
   ]
  },
  {
   "cell_type": "code",
   "execution_count": null,
   "metadata": {},
   "outputs": [],
   "source": [
    "# Global variable\n",
    "counter = 0\n",
    "\n",
    "def increment():\n",
    "    global counter    # Access global variable\n",
    "    counter += 1\n",
    "\n",
    "def local_example():\n",
    "    local_var = 100   # Local variable\n",
    "    print(f\"Local: {local_var}\")\n",
    "    print(f\"Global: {counter}\")\n",
    "\n",
    "increment()\n",
    "local_example()"
   ]
  },
  {
   "cell_type": "markdown",
   "metadata": {},
   "source": [
    "### Built-in Functions\n",
    "Common Python built-in functions:\n",
    "- `len()`: Length of sequence\n",
    "- `range()`: Generate number sequence\n",
    "- `sum()`, `max()`, `min()`: Numeric operations\n",
    "- `type()`: Get object type\n",
    "- `sorted()`: Return sorted sequence\n",
    "- `enumerate()`: Index-value pairs\n",
    "- `zip()`: Combine iterables\n",
    "- `map()`: Apply function to iterable\n",
    "- `filter()`: Filter items using function"
   ]
  },
  {
   "cell_type": "code",
   "execution_count": null,
   "metadata": {},
   "outputs": [],
   "source": [
    "# Built-in function examples\n",
    "numbers = [1, 5, 3, 2, 4]\n",
    "\n",
    "print(f\"Length: {len(numbers)}\")\n",
    "print(f\"Sum: {sum(numbers)}\")\n",
    "print(f\"Max: {max(numbers)}\")\n",
    "print(f\"Sorted: {sorted(numbers)}\")\n",
    "\n",
    "# Advanced built-ins\n",
    "names = ['alice', 'bob', 'charlie']\n",
    "upper_names = list(map(str.upper, names))\n",
    "long_names = list(filter(lambda x: len(x) > 3, names))\n",
    "\n",
    "print(f\"Uppercase: {upper_names}\")\n",
    "print(f\"Long names: {long_names}\")"
   ]
  },
  {
   "cell_type": "markdown",
   "metadata": {},
   "source": [
    "# Python OOPs"
   ]
  },
  {
   "cell_type": "markdown",
   "metadata": {},
   "source": [
    "Solving a problem by creating object is one of the most popular approaches in\n",
    "programming. This is called object-oriented programming.\n",
    "\n",
    "Note: This concept focuses on using reusable code (DRY Principle).\n",
    "1. **Class** - A class is a blueprint for creating object.\n",
    "```python\n",
    "class Employee: # Class name is written in pascal case\n",
    "    # Methods & Variables\n",
    "```\n",
    "2. **Object** - An object is an instantiation of a class. When class is defined, a template (info) is\n",
    "defined. Memory is allocated only after object instantiation.\n",
    "- Objects of a given class can invoke the methods available to it without revealing the\n",
    "implementation details to the user. – Abstractions & Encapsulation!\n"
   ]
  },
  {
   "cell_type": "markdown",
   "metadata": {},
   "source": [
    "1. **Class Attribute** : An attribute that belongs to the class rather than a particular object.\n",
    "2. **Instance Attribute** : An attribute that belongs to the Instance (object).\n",
    "\n",
    "Note: Instance attributes, take preference over class attributes during assignment &\n",
    "retrieval."
   ]
  },
  {
   "cell_type": "code",
   "execution_count": null,
   "metadata": {},
   "outputs": [],
   "source": [
    "class Employee:\n",
    "    company = \"Google\" # Specific to Each Class\n",
    "\n",
    "harry = Employee() # Object Instatiation\n",
    "print(\"Current Company: \",harry.company)\n",
    "Employee.company = \"YouTube\" # Changing Class Attribute\n",
    "print(\"Change class attribute: \",harry.company)\n",
    "harry.company = \"Facebook\"\n",
    "print(\"Change instance attribute: \",harry.company)\n",
    "\n"
   ]
  },
  {
   "cell_type": "markdown",
   "metadata": {},
   "source": [
    "1. **`__init__()`** : It is Constructor\n",
    "    - It's the initializer — runs automatically when an object is created.\n",
    "    - Think of it as the class’s setup method.\n",
    "2. **`self`** : The Current Object\n",
    "    - `self` always points to the instance calling the method.\n",
    "    - When you create an object from a class, self lets you access its attributes and methods from within the class.\n",
    "    - Note: It’s not a keyword(i.e, can use any other word), just a convention — but essential.\n",
    "3. **`@staticmethod`** : No Access to `self` or `cls`\n",
    "    - It’s a method inside a class, but it doesn’t need access to the object (self) or class (cls).\n",
    "    - Use it when the method is logically related to the class but doesn’t touch the object or class itself.\n",
    "    ```python\n",
    "       class MathUtils:\n",
    "            @staticmethod\n",
    "            def add(a, b):\n",
    "                return a + b\n",
    "        print(MathUtils.add(5, 3))  # 8\n",
    "    ```\n"
   ]
  },
  {
   "cell_type": "code",
   "execution_count": null,
   "metadata": {},
   "outputs": [],
   "source": [
    "class Book:\n",
    "    def __init__(self, title, author, price):\n",
    "        self.title = title              # instance attribute\n",
    "        self.author = author\n",
    "        self.price = price\n",
    "\n",
    "    def display_info(self):             # instance method using self\n",
    "        print(f\"'{self.title}' by {self.author} - ₹{self.price}\")\n",
    "\n",
    "    @staticmethod\n",
    "    def is_expensive(price):           # static method (no self)\n",
    "        return price > 500\n",
    "\n",
    "# Create book objects\n",
    "book1 = Book(\"Python Crash Course\", \"Eric Matthes\", 450)\n",
    "book2 = Book(\"Clean Code\", \"Robert C. Martin\", 750)\n",
    "\n",
    "# Using instance method\n",
    "book1.display_info()  # 'Python Crash Course' by Eric Matthes - ₹450\n",
    "book2.display_info()  # 'Clean Code' by Robert C. Martin - ₹750\n",
    "\n",
    "# Using static method\n",
    "print(Book.is_expensive(book1.price))  # False\n",
    "print(Book.is_expensive(book2.price))  # True\n"
   ]
  },
  {
   "cell_type": "markdown",
   "metadata": {},
   "source": [
    "## Understanding Pillars of OOPs with example"
   ]
  },
  {
   "cell_type": "markdown",
   "metadata": {},
   "source": [
    "### 1. **Class & Objects**\n",
    "Let's take an example of car, **Class** is blueprint which consist of details about the car for example brand, model whereas **Objects** are instances let's car1 or car2."
   ]
  },
  {
   "cell_type": "code",
   "execution_count": null,
   "metadata": {},
   "outputs": [],
   "source": [
    "class Car:\n",
    "    def __init__(self, brand, model):\n",
    "        self.brand = brand  # Attribute\n",
    "        self.model = model\n",
    "\n",
    "    def drive(self):\n",
    "        print(f\"{self.brand} {self.model} is driving.\")\n",
    "car1 = Car(\"Toyota\", \"Corolla\")  # Object created\n",
    "car1.drive()"
   ]
  },
  {
   "cell_type": "markdown",
   "metadata": {},
   "source": [
    "### 2. **Encapsulation**\n",
    "- Hiding internal data & controlling access with methods.\n",
    "- Note: Trying to access `car.__fuel_level` directly will raise an error — it’s private."
   ]
  },
  {
   "cell_type": "code",
   "execution_count": null,
   "metadata": {},
   "outputs": [],
   "source": [
    "class Car:\n",
    "    def __init__(self, brand, model, fuel_level):\n",
    "        self.brand = brand  # Attribute\n",
    "        self.model = model\n",
    "        self.__fuel_level = fuel_level # private attribute\n",
    "\n",
    "    def get_fuel_level(self):\n",
    "        return self.__fuel_level\n",
    "    def refuel(self, amount):\n",
    "        self.__fuel_level += amount\n",
    "car = Car(\"Honda\", \"Civic\", 50)\n",
    "print(\"Current: \", car.get_fuel_level())  # Accessing safely\n",
    "car.refuel(20)\n",
    "print(\"After refuel: \",car.get_fuel_level())\n",
    "# print(\"Private: \", car.__fuel_level)\n"
   ]
  },
  {
   "cell_type": "markdown",
   "metadata": {},
   "source": [
    "### 3. **Inheritance**\n",
    "- Reusing code. A child class inherits from a parent class.\n",
    "- Supports hierarchical relationships (like “is-a” relationships).\n",
    "- `super()` method is used to access the methods of a super class in the derived class."
   ]
  },
  {
   "cell_type": "code",
   "execution_count": 1,
   "metadata": {
    "ExecuteTime": {
     "end_time": "2025-04-22T10:35:26.294881Z",
     "start_time": "2025-04-22T10:35:26.285566Z"
    }
   },
   "outputs": [
    {
     "name": "stdout",
     "output_type": "stream",
     "text": [
      "Tesla Model S is driving.\n",
      "Tesla is charging its 100kWh battery.\n"
     ]
    }
   ],
   "source": [
    "class Car:\n",
    "    def __init__(self, brand, model):\n",
    "        self.brand = brand\n",
    "        self.model = model\n",
    "\n",
    "    def drive(self):\n",
    "        print(f\"{self.brand} {self.model} is driving.\")\n",
    "\n",
    "class ElectricCar(Car):  # Inheriting from Car\n",
    "    def __init__(self, brand, model, battery):\n",
    "        super().__init__(brand, model)\n",
    "        self.battery = battery\n",
    "\n",
    "    def charge(self):\n",
    "        print(f\"{self.brand} is charging its {self.battery}kWh battery.\")\n",
    "\n",
    "tesla = ElectricCar(\"Tesla\", \"Model S\", 100)\n",
    "tesla.drive()\n",
    "tesla.charge()\n"
   ]
  },
  {
   "cell_type": "markdown",
   "metadata": {},
   "source": [
    "`ElectricCar(Car)` — This tells Python that ElectricCar inherits from Car.\n",
    "\n",
    "`super().__init__(...)` — This calls the parent’s constructor so you don’t have to rewrite brand and model.\n",
    "\n",
    "ElectricCar can use:\n",
    "- All methods from Car (drive)\n",
    "- Its own methods (charge)"
   ]
  },
  {
   "cell_type": "markdown",
   "metadata": {},
   "source": [
    "### **4. Polymorphism**\n",
    "- Polymorphism = Same method name, different behaviors\n",
    "- The start() method is defined in both classes but works differently = polymorphism."
   ]
  },
  {
   "cell_type": "code",
   "execution_count": 21,
   "metadata": {
    "ExecuteTime": {
     "end_time": "2025-04-21T21:39:15.118898Z",
     "start_time": "2025-04-21T21:39:15.107459Z"
    }
   },
   "outputs": [
    {
     "name": "stdout",
     "output_type": "stream",
     "text": [
      "Car is starting with a key.\n",
      "Electric car is starting silently.\n"
     ]
    }
   ],
   "source": [
    "class Car:\n",
    "    def start(self):\n",
    "        print(\"Car is starting with a key.\")\n",
    "\n",
    "class ElectricCar:\n",
    "    def start(self):\n",
    "        print(\"Electric car is starting silently.\")\n",
    "\n",
    "def start_car(vehicle):\n",
    "    vehicle.start()\n",
    "\n",
    "a = Car()\n",
    "b = ElectricCar()\n",
    "\n",
    "start_car(a)  # Car's start\n",
    "start_car(b)  # ElectricCar's start\n"
   ]
  },
  {
   "cell_type": "markdown",
   "metadata": {},
   "source": [
    "### **5. Abstraction**\n",
    "- Hiding complex logic, exposing only the interface\n",
    "- Think: You press “start”, don’t care how engine/battery starts internally.\n",
    "- `Vehicle` is an abstract base class, you cannot instantiate it directly. Forces subclasses to implement `start_engine()`."
   ]
  },
  {
   "cell_type": "code",
   "execution_count": 22,
   "metadata": {
    "ExecuteTime": {
     "end_time": "2025-04-21T21:42:51.151362Z",
     "start_time": "2025-04-21T21:42:51.143829Z"
    }
   },
   "outputs": [
    {
     "name": "stdout",
     "output_type": "stream",
     "text": [
      "Starting petrol engine...\n",
      "Starting electric motor silently...\n"
     ]
    }
   ],
   "source": [
    "from abc import ABC, abstractmethod\n",
    "\n",
    "class Vehicle(ABC):\n",
    "    @abstractmethod\n",
    "    def start_engine(self):\n",
    "        pass\n",
    "\n",
    "class PetrolCar(Vehicle):\n",
    "    def start_engine(self):\n",
    "        print(\"Starting petrol engine...\")\n",
    "\n",
    "class ElectricCar(Vehicle):\n",
    "    def start_engine(self):\n",
    "        print(\"Starting electric motor silently...\")\n",
    "\n",
    "\n",
    "car1 = PetrolCar()\n",
    "car1.start_engine()\n",
    "\n",
    "car2 = ElectricCar()\n",
    "car2.start_engine()\n"
   ]
  },
  {
   "cell_type": "code",
   "execution_count": null,
   "metadata": {},
   "outputs": [],
   "source": []
  },
  {
   "cell_type": "markdown",
   "metadata": {},
   "source": [
    "# Python Advance"
   ]
  }
 ],
 "metadata": {
  "kernelspec": {
   "display_name": ".venv",
   "language": "python",
   "name": "python3"
  },
  "language_info": {
   "codemirror_mode": {
    "name": "ipython",
    "version": 3
   },
   "file_extension": ".py",
   "mimetype": "text/x-python",
   "name": "python",
   "nbconvert_exporter": "python",
   "pygments_lexer": "ipython3",
   "version": "3.12.4"
  }
 },
 "nbformat": 4,
 "nbformat_minor": 2
}
