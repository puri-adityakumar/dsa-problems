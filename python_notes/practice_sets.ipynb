{
 "cells": [
  {
   "cell_type": "markdown",
   "id": "5bf055cda4c3172",
   "metadata": {},
   "source": [
    "# Practice Sets for Python\n",
    "By [Code With Harry](https://cwh-full-next-space.fra1.cdn.digitaloceanspaces.com/YouTube/The%20Ultimate%20Python%20Handbook.pdf)"
   ]
  },
  {
   "cell_type": "markdown",
   "id": "2282df7f6fa3cbae",
   "metadata": {},
   "source": [
    "# Chapter 1 : Basics"
   ]
  },
  {
   "cell_type": "markdown",
   "id": "c65e0b3158007a40",
   "metadata": {},
   "source": [
    "## Tasks:\n",
    "1. Write a program to print Twinkle twinkle little star poem in python.\n",
    "2. Use REPL and print the table of 5 using it.\n",
    "3. Install an external module and use it to perform an operation of your interest.\n",
    "4. Write a python program to print the contents of a directory using the os module.\n",
    "Search online for the function which does that.\n",
    "5. Label the program written in problem 4 with comments."
   ]
  },
  {
   "cell_type": "code",
   "execution_count": null,
   "id": "2cefd3152ce992e4",
   "metadata": {},
   "outputs": [],
   "source": [
    "# Task 1\n",
    "\n",
    "print(\"\"\"Twinkle, twinkle, little star,\n",
    "How I wonder what you are!\n",
    "Up above the world so high,\n",
    "Like a diamond in the sky.\n",
    "\n",
    "Twinkle, twinkle, little star,\n",
    "How I wonder what you are!\"\"\")\n"
   ]
  },
  {
   "cell_type": "markdown",
   "id": "e8e1cc683b3387a3",
   "metadata": {},
   "source": [
    "Task #2\n",
    "- Open Terminal\n",
    "- enter \"python\" and run it\n",
    "- Then just continue writing table."
   ]
  },
  {
   "cell_type": "code",
   "execution_count": null,
   "id": "41fc67d45f9a912f",
   "metadata": {},
   "outputs": [],
   "source": [
    "# Task 3\n",
    "import pyfiglet\n",
    "\n",
    "ascii_banner = pyfiglet.figlet_format(\"Hello World!\")\n",
    "print(ascii_banner)\n"
   ]
  },
  {
   "cell_type": "code",
   "execution_count": null,
   "id": "10505040df02540c",
   "metadata": {},
   "outputs": [],
   "source": [
    "# Task 4 & 5\n",
    "import os  # Import the os module to interact with the operating system\n",
    "\n",
    "# Define the path of the directory (current directory in this case)\n",
    "path = \".\"\n",
    "\n",
    "# Get the list of files and directories in the given path\n",
    "contents = os.listdir(path)\n",
    "\n",
    "# Print each item in the directory\n",
    "print(\"Directory contents:\")\n",
    "for item in contents:\n",
    "    print(item)\n"
   ]
  },
  {
   "cell_type": "markdown",
   "id": "594622326618baae",
   "metadata": {},
   "source": [
    "# Chapter 2 : Variables and Data Types"
   ]
  },
  {
   "cell_type": "markdown",
   "id": "4327b43d8d24e1e4",
   "metadata": {},
   "source": [
    "## Tasks:\n",
    "1. Write a python program to add two numbers.\n",
    "2. Write a python program to find remainder when a number is divided by z.\n",
    "3. Check the type of variable assigned using input () function.\n",
    "4. Use comparison operator to find out whether ‘a’ given variable a is greater than\n",
    "‘b’ or not. Take a = 34 and b = 80\n",
    "5. Write a python program to find an average of two numbers entered by the user.\n",
    "6. Write a python program to calculate the square of a number entered by the user"
   ]
  },
  {
   "cell_type": "code",
   "execution_count": null,
   "id": "ed221c4c9fc95aa",
   "metadata": {},
   "outputs": [],
   "source": [
    "# Task 1\n",
    "a = 10\n",
    "b = 20\n",
    "sum = a + b\n",
    "print(\"Sum:\", sum)\n"
   ]
  },
  {
   "cell_type": "code",
   "execution_count": null,
   "id": "2b43b3ccc58dfaf6",
   "metadata": {},
   "outputs": [],
   "source": [
    "# Task 2\n",
    "a = 34\n",
    "b = 80\n",
    "remainder = a % b\n",
    "print(\"Remainder:\", remainder)"
   ]
  },
  {
   "cell_type": "code",
   "execution_count": null,
   "id": "79aedef674d5bac1",
   "metadata": {},
   "outputs": [],
   "source": [
    "# Task 3\n",
    "a = input(\"Enter a number: \")\n",
    "print(\"Type of a:\", type(a))"
   ]
  },
  {
   "cell_type": "code",
   "execution_count": null,
   "id": "b86d3900f42e0e19",
   "metadata": {},
   "outputs": [],
   "source": [
    "# Task 4\n",
    "a = 34\n",
    "b = 80\n",
    "print(\"Is a greater than b?\", a > b)\n"
   ]
  },
  {
   "cell_type": "code",
   "execution_count": null,
   "id": "625fdb62697dedf6",
   "metadata": {},
   "outputs": [],
   "source": [
    "# Task 5\n",
    "x = float(input(\"Enter first number: \"))\n",
    "y = float(input(\"Enter second number: \"))\n",
    "average = (x + y) / 2\n",
    "print(\"Average:\", average)\n"
   ]
  },
  {
   "cell_type": "code",
   "execution_count": null,
   "id": "8a972560f9239aaf",
   "metadata": {},
   "outputs": [],
   "source": [
    "# Taks 6\n",
    "a = float(input(\"Enter a number: \"))\n",
    "square = a ** 2\n",
    "print(\"Square:\", square)"
   ]
  },
  {
   "cell_type": "markdown",
   "id": "ca5be16b2da5c1a4",
   "metadata": {},
   "source": [
    "# Chapter 3 : Strings"
   ]
  },
  {
   "cell_type": "markdown",
   "id": "fa9d67878d9f35b",
   "metadata": {},
   "source": [
    "## Tasks:\n",
    "1. Write a python program to display a user entered name followed by Good\n",
    "Afternoon using input () function.\n",
    "2. Write a program to fill in a letter template given below with name and date.\n",
    "`letter = '''\n",
    "Dear <|Name|>,\n",
    "You are selected!\n",
    "<|Date|>\n",
    "'''`\n",
    "3. Write a program to detect double space in a string.\n",
    "4. Replace the double space from problem 3 with single spaces.\n",
    "5. Write a program to format the following letter using escape sequence\n",
    "characters.\n",
    "`letter = \"Dear Harry, this python course is nice. Thanks!\"`"
   ]
  },
  {
   "cell_type": "code",
   "execution_count": null,
   "id": "9e129a2195433639",
   "metadata": {},
   "outputs": [],
   "source": [
    "# Task 1: Display a user-entered name followed by \"Good Afternoon\"\n",
    "name = input(\"Enter your name: \")\n",
    "print(\"Good Afternoon,\", name)\n"
   ]
  },
  {
   "cell_type": "code",
   "execution_count": null,
   "id": "9a66038b7d533b9d",
   "metadata": {},
   "outputs": [],
   "source": [
    "# Task 2: Fill in a letter template with name and date\n",
    "\n",
    "# Original letter template\n",
    "letter = '''\n",
    "Dear <|Name|>,\n",
    "You are selected!\n",
    "<|Date|>\n",
    "'''\n",
    "\n",
    "# Get user input for name and date\n",
    "name = input(\"Enter your name: \")\n",
    "date = input(\"Enter the date: \")\n",
    "\n",
    "# Replace placeholders with actual values\n",
    "letter = letter.replace(\"<|Name|>\", name)\n",
    "letter = letter.replace(\"<|Date|>\", date)\n",
    "\n",
    "# Display the filled letter\n",
    "print(letter)\n"
   ]
  },
  {
   "cell_type": "code",
   "execution_count": null,
   "id": "5d4b53c5a47ac731",
   "metadata": {},
   "outputs": [],
   "source": [
    "# Task 3: Detect double spaces in a string\n",
    "text = input(\"Enter a string: \")\n",
    "\n",
    "# Check if double space exists\n",
    "if \"  \" in text:\n",
    "    print(\"Double space detected.\")\n",
    "else:\n",
    "    print(\"No double space found.\")\n"
   ]
  },
  {
   "cell_type": "code",
   "execution_count": null,
   "id": "8b5f9d1275208312",
   "metadata": {},
   "outputs": [],
   "source": [
    "# Task 4: Replace double spaces with single spaces\n",
    "text = input(\"Enter a string with possible double spaces: \")\n",
    "\n",
    "# Replace all double spaces with single spaces\n",
    "updated_text = text.replace(\"  \", \" \")\n",
    "print(\"Updated string:\", updated_text)\n"
   ]
  },
  {
   "cell_type": "code",
   "execution_count": null,
   "id": "22b870f92972ce9",
   "metadata": {},
   "outputs": [],
   "source": [
    "# Task 5: Format a letter using escape sequences\n",
    "letter = \"Dear Harry,\\n\\tThis Python course is nice.\\nThanks!\"\n",
    "print(letter)\n"
   ]
  },
  {
   "cell_type": "markdown",
   "id": "501281fa1b3856e4",
   "metadata": {},
   "source": [
    "# Chapter 4: List and Tuples"
   ]
  },
  {
   "cell_type": "markdown",
   "id": "47615c6ee7136633",
   "metadata": {},
   "source": [
    "## Task:\n",
    "1. Write a program to store seven fruits in a list entered by the user.\n",
    "2. Write a program to accept marks of 6 students and display them in a sorted\n",
    "manner.\n",
    "3. Check that a tuple type cannot be changed in python.\n",
    "4. Write a program to sum a list with 4 numbers.\n",
    "5. Write a program to count the number of zeros in the following tuple: a = (7, 0, 8, 0, 0, 9)"
   ]
  },
  {
   "cell_type": "code",
   "execution_count": null,
   "id": "1b56758173b0d310",
   "metadata": {},
   "outputs": [],
   "source": [
    "fruits = []\n",
    "for i in range(7):\n",
    "    fruit = input(f\"Enter fruit {i+1}: \")\n",
    "    fruits.append(fruit)\n",
    "\n",
    "print(\"Fruits List:\", fruits)\n"
   ]
  },
  {
   "cell_type": "code",
   "execution_count": null,
   "id": "468756b4f8b2891d",
   "metadata": {},
   "outputs": [],
   "source": [
    "marks = []\n",
    "for i in range(6):\n",
    "    mark = int(input(f\"Enter marks for student {i+1}: \"))\n",
    "    marks.append(mark)\n",
    "\n",
    "marks.sort()\n",
    "print(\"Sorted Marks:\", marks)\n"
   ]
  },
  {
   "cell_type": "code",
   "execution_count": null,
   "id": "257f288ea7272b8c",
   "metadata": {},
   "outputs": [],
   "source": [
    "t = (1, 2, 3)\n",
    "# t[0] = 100  # This will raise TypeError if uncommented\n",
    "print(\"Tuples are immutable — you cannot change elements once assigned.\")\n"
   ]
  },
  {
   "cell_type": "code",
   "execution_count": null,
   "id": "558245a3f7965788",
   "metadata": {},
   "outputs": [],
   "source": [
    "numbers = [5, 10, 15, 20]\n",
    "total = sum(numbers)\n",
    "print(\"Sum of list:\", total)\n"
   ]
  },
  {
   "cell_type": "code",
   "execution_count": null,
   "id": "e3d9ec05c3b23872",
   "metadata": {},
   "outputs": [],
   "source": [
    "a = (7, 0, 8, 0, 0, 9)\n",
    "zero_count = a.count(0)\n",
    "print(\"Number of zeros in the tuple:\", zero_count)\n"
   ]
  },
  {
   "cell_type": "markdown",
   "id": "c2b9f69f5c1dda55",
   "metadata": {},
   "source": [
    "# Chapter 5: Dictionary and Sets"
   ]
  },
  {
   "cell_type": "markdown",
   "id": "d995496f89257aed",
   "metadata": {},
   "source": [
    "## Tasks:\n",
    "1. Write a program to create a dictionary of Hindi words with values as their English\n",
    "translation. Provide user with an option to look it up!\n",
    "2. Write a program to input eight numbers from the user and display all the unique\n",
    "numbers (once).\n",
    "3. Can we have a set with 18 (int) and '18' (str) as a value in it?\n",
    "4. What will be the length of following set s:\n",
    "```\n",
    "s = set()\n",
    "s.add(20)\n",
    "s.add(20.0)\n",
    "s.add('20') # length of s after these operations?\n",
    "\n",
    "```\n",
    "5. `s = {}` What is the type of 's'?\n",
    "6. Create an empty dictionary. Allow 4 friends to enter their favorite language as\n",
    "value and use key as their names. Assume that the names are unique.\n",
    "7. If the names of 2 friends are same; what will happen to the program in problem\n",
    "6?\n",
    "8. If languages of two friends are same; what will happen to the program in problem\n",
    "6?\n",
    "9. Can you change the values inside a list which is contained in set S?\n",
    "`s = {8, 7, 12, \"Harry\", [1,2]}`"
   ]
  },
  {
   "cell_type": "code",
   "execution_count": null,
   "id": "4d076ac2a9c750c8",
   "metadata": {},
   "outputs": [],
   "source": [
    "# Task : 1\n",
    "\n",
    "hindi_dict = {\n",
    "    \"paani\": \"water\",\n",
    "    \"roti\": \"bread\",\n",
    "    \"ghar\": \"house\",\n",
    "    \"kitab\": \"book\",\n",
    "    \"kursi\": \"chair\",\n",
    "    \"dost\": \"friend\"\n",
    "}\n",
    "\n",
    "print(\"Available Hindi words:\")\n",
    "for word, translation in hindi_dict.items():\n",
    "    print(f\"{word}: {translation}\")\n",
    "\n",
    "word = input(\"Enter a Hindi word: \")\n",
    "if word in hindi_dict:\n",
    "    print(f\"Translation of '{word}': {hindi_dict[word]}\")\n",
    "else:\n",
    "    print(f\"No translation found for '{word}'.\")"
   ]
  },
  {
   "cell_type": "code",
   "execution_count": null,
   "id": "7c69433d17551bfe",
   "metadata": {},
   "outputs": [],
   "source": [
    "# Task : 2\n",
    "numbers = []\n",
    "\n",
    "for i in range(8):\n",
    "    num = int(input(f\"Enter number {i+1}: \"))\n",
    "    numbers.append(num)\n",
    "\n",
    "unique_numbers = set(numbers)\n",
    "\n",
    "print(\"Unique numbers entered:\", unique_numbers)"
   ]
  },
  {
   "cell_type": "code",
   "execution_count": null,
   "id": "5d51cb70216e4b3b",
   "metadata": {},
   "outputs": [],
   "source": [
    "# Task : 3\n",
    "s = {18, '18'}\n",
    "print(s)       # Output: {18, '18'}\n",
    "print(len(s))  # Output: 2\n"
   ]
  },
  {
   "cell_type": "code",
   "execution_count": null,
   "id": "4c9ba3f88d5425eb",
   "metadata": {},
   "outputs": [],
   "source": [
    "# Task : 4\n",
    "s = set()\n",
    "s.add(20)      # Adds integer 20\n",
    "s.add(20.0)    # 20.0 is considered equal to 20 in Python (same hash)\n",
    "s.add('20')    # String '20' is different from int 20\n",
    "print(len(s))\n"
   ]
  },
  {
   "cell_type": "code",
   "execution_count": null,
   "id": "dab63e77e91f23ac",
   "metadata": {},
   "outputs": [],
   "source": [
    "s = {}\n",
    "print(type(s))"
   ]
  },
  {
   "cell_type": "code",
   "execution_count": null,
   "id": "468aceb2008ea872",
   "metadata": {},
   "outputs": [],
   "source": [
    "# Task : 5\n",
    "fav_lang = {}\n",
    "\n",
    "for i in range(4):\n",
    "    name = input(f\"Enter name of friend {i+1}: \")\n",
    "    language = input(f\"Enter {name}'s favorite language: \")\n",
    "    fav_lang[name] = language\n",
    "\n",
    "print(\"\\nFavorite Languages Dictionary:\")\n",
    "print(fav_lang)\n"
   ]
  },
  {
   "cell_type": "markdown",
   "id": "22c5e62bbb3f639d",
   "metadata": {},
   "source": [
    "- Answer 6: If two friends have the same name, the earlier entry is lost. You must ensure unique keys (names) if you want to preserve all entries.\n",
    "- Answer 7: Duplicate values (like same languages) are allowed in dictionaries without any issue. Only the keys (names) must be unique.\n",
    "- Answer 8: No, you can not. It will throw an error **Lists are mutable and unhashable, so they cannot be added to a set**.\n",
    "\n",
    "    Error example:  `TypeError: unhashable type: 'list'`"
   ]
  },
  {
   "cell_type": "markdown",
   "id": "a4f297420ae53282",
   "metadata": {},
   "source": [
    "# Chapter 6: Conditional Expression"
   ]
  },
  {
   "cell_type": "markdown",
   "id": "ca4ca3822e4f5e57",
   "metadata": {},
   "source": [
    "## Tasks:\n",
    "1. Write a program to find the greatest of four numbers entered by the user.\n",
    "2. Write a program to find out whether a student has passed or failed if it requires a\n",
    "total of 40% and at least 33% in each subject to pass. Assume 3 subjects and\n",
    "take marks as an input from the user.\n",
    "3. A spam comment is defined as a text containing following keywords:\n",
    "“Make a lot of money”, “buy now”, “subscribe this”, “click this”. Write a program\n",
    "to detect these spams.\n",
    "4. Write a program to find whether a given username contains less than 10\n",
    "characters or not.\n",
    "5. Write a program which finds out whether a given name is present in a list or not.\n",
    "6. Write a program to calculate the grade of a student from his marks from the\n",
    "```\n",
    "following scheme:\n",
    "90 – 100 => Ex\n",
    "80 – 90 => A\n",
    "70 – 80 => B\n",
    "60 – 70 =>C\n",
    "50 – 60 => D\n",
    "<50 => F\n",
    "```\n",
    "7. Write a program to find out whether a given post is talking about “Harry” or not."
   ]
  },
  {
   "cell_type": "code",
   "execution_count": null,
   "id": "ee7bd6ac9541e491",
   "metadata": {},
   "outputs": [],
   "source": [
    "# Task 1\n",
    "a = int(input(\"Enter first number: \"))\n",
    "b = int(input(\"Enter second number: \"))\n",
    "c = int(input(\"Enter third number: \"))\n",
    "d = int(input(\"Enter fourth number: \"))\n",
    "greatest = max(a, b, c, d)\n",
    "print(\"The greatest number is:\", greatest)\n"
   ]
  },
  {
   "cell_type": "code",
   "execution_count": null,
   "id": "4158b28000bbe9dd",
   "metadata": {},
   "outputs": [],
   "source": [
    "# Task 2\n",
    "sub1 = int(input(\"Enter marks for subject 1: \"))\n",
    "sub2 = int(input(\"Enter marks for subject 2: \"))\n",
    "sub3 = int(input(\"Enter marks for subject 3: \"))\n",
    "total = (sub1 + sub2 + sub3) / 3\n",
    "if total >= 40 and sub1 >= 33 and sub2 >= 33 and sub3 >= 33:\n",
    "    print(\"Pass\")\n",
    "else:\n",
    "    print(\"Fail\")\n"
   ]
  },
  {
   "cell_type": "code",
   "execution_count": null,
   "id": "3ab5a481e252e8d7",
   "metadata": {},
   "outputs": [],
   "source": [
    "# Task 3\n",
    "text = input(\"Enter the comment: \").lower()\n",
    "if (\"make a lot of money\" in text or \"buy now\" in text or\n",
    "    \"subscribe this\" in text or \"click this\" in text):\n",
    "    print(\"This is a spam comment.\")\n",
    "else:\n",
    "    print(\"This is not a spam comment.\")\n"
   ]
  },
  {
   "cell_type": "code",
   "execution_count": null,
   "id": "23d32a11c0641ffd",
   "metadata": {},
   "outputs": [],
   "source": [
    "# Task 4\n",
    "username = input(\"Enter username: \")\n",
    "if len(username) < 10:\n",
    "    print(\"Username is less than 10 characters.\")\n",
    "else:\n",
    "    print(\"Username is 10 or more characters.\")\n"
   ]
  },
  {
   "cell_type": "code",
   "execution_count": null,
   "id": "af4799fb84a3136f",
   "metadata": {},
   "outputs": [],
   "source": [
    "# Task 4\n",
    "username = input(\"Enter username: \")\n",
    "if len(username) < 10:\n",
    "    print(\"Username is less than 10 characters.\")\n",
    "else:\n",
    "    print(\"Username is 10 or more characters.\")\n"
   ]
  },
  {
   "cell_type": "code",
   "execution_count": null,
   "id": "403bca5e262d718b",
   "metadata": {},
   "outputs": [],
   "source": [
    "# Task 6\n",
    "marks = int(input(\"Enter your marks: \"))\n",
    "if 90 <= marks <= 100:\n",
    "    grade = \"Ex\"\n",
    "elif 80 <= marks < 90:\n",
    "    grade = \"A\"\n",
    "elif 70 <= marks < 80:\n",
    "    grade = \"B\"\n",
    "elif 60 <= marks < 70:\n",
    "    grade = \"C\"\n",
    "elif 50 <= marks < 60:\n",
    "    grade = \"D\"\n",
    "else:\n",
    "    grade = \"F\"\n",
    "print(\"Your grade is:\", grade)"
   ]
  },
  {
   "cell_type": "code",
   "execution_count": null,
   "id": "9993899d611ad928",
   "metadata": {},
   "outputs": [],
   "source": [
    "# Task 7\n",
    "post = input(\"Enter the post: \").lower()\n",
    "if \"zeke\" in post:\n",
    "    print(\"This post is talking about zeke.\")\n",
    "else:\n",
    "    print(\"This post is not talking about zeke.\")\n"
   ]
  },
  {
   "cell_type": "markdown",
   "id": "1e845a6b4a43bfd5",
   "metadata": {},
   "source": [
    "# Chapter 7 : Loops"
   ]
  },
  {
   "cell_type": "markdown",
   "id": "6d645443cafd417e",
   "metadata": {},
   "source": [
    "## Tasks:\n",
    "1. Write a program to print multiplication table of a given number using for loop.\n",
    "2. Write a program to greet all the person names stored in a list ‘l’ and which starts\n",
    "with S.\n",
    "l = [\"Harry\", \"Soham\", \"Sachin\", \"Rahul\"]\n",
    "3. Attempt problem 1 using while loop.\n",
    "4. Write a program to find whether a given number is prime or not.\n",
    "5. Write a program to find the sum of first n natural numbers using while loop.\n",
    "6. Write a program to calculate the factorial of a given number using for loop.\n",
    "7. Write a program to print the following star pattern (for n = 3).\n",
    " ```\n",
    "  *\n",
    " ***\n",
    "*****\n",
    "```\n",
    "8. Write a program to print the following star pattern (n =3)\n",
    "```\n",
    "*\n",
    "**\n",
    "***\n",
    "```\n",
    "9. Write a program to print the following star pattern. (for n = 3)\n",
    "```\n",
    "* * *\n",
    "* *\n",
    "* * *\n",
    "```\n",
    "10. Write a program to print multiplication table of n using for loops in reversed\n",
    "order"
   ]
  },
  {
   "cell_type": "code",
   "execution_count": null,
   "id": "433561bfda8f554a",
   "metadata": {},
   "outputs": [],
   "source": [
    "# Task 1\n",
    "n = int(input(\"Enter number: \"))\n",
    "for i in range(1, 11):\n",
    "    print(f\"{n} x {i} = {n*i}\")\n"
   ]
  },
  {
   "cell_type": "code",
   "execution_count": null,
   "id": "f738810f9b032de3",
   "metadata": {},
   "outputs": [],
   "source": [
    "# Task 2\n",
    "l = [\"Harry\", \"Soham\", \"Sachin\", \"Rahul\"]\n",
    "for name in l:\n",
    "    if name.startswith(\"S\"):\n",
    "        print(\"Hello\", name)\n"
   ]
  },
  {
   "cell_type": "code",
   "execution_count": null,
   "id": "26f25d83fc9e38d9",
   "metadata": {},
   "outputs": [],
   "source": [
    "# Task 3\n",
    "n = int(input(\"Enter number: \"))\n",
    "i = 1\n",
    "while i <= 10:\n",
    "    print(f\"{n} x {i} = {n*i}\")\n",
    "    i += 1\n"
   ]
  },
  {
   "cell_type": "code",
   "execution_count": null,
   "id": "b700db4222c9a6a",
   "metadata": {},
   "outputs": [],
   "source": [
    "# Task 4\n",
    "num = int(input(\"Enter number: \"))\n",
    "is_prime = True\n",
    "if num < 2:\n",
    "    is_prime = False\n",
    "else:\n",
    "    for i in range(2, int(num**0.5)+1):\n",
    "        if num % i == 0:\n",
    "            is_prime = False\n",
    "            break\n",
    "print(\"Prime\" if is_prime else \"Not Prime\")\n"
   ]
  },
  {
   "cell_type": "code",
   "execution_count": null,
   "id": "8982d37a592ee073",
   "metadata": {},
   "outputs": [],
   "source": [
    "# Task 5\n",
    "n = int(input(\"Enter n: \"))\n",
    "i = 1\n",
    "sum = 0\n",
    "while i <= n:\n",
    "    sum += i\n",
    "    i += 1\n",
    "print(\"Sum =\", sum)\n"
   ]
  },
  {
   "cell_type": "code",
   "execution_count": null,
   "id": "d9bddb35aa1704fa",
   "metadata": {},
   "outputs": [],
   "source": [
    "# Task 6\n",
    "n = int(input(\"Enter number: \"))\n",
    "fact = 1\n",
    "for i in range(1, n+1):\n",
    "    fact *= i\n",
    "print(\"Factorial =\", fact)\n"
   ]
  },
  {
   "cell_type": "code",
   "execution_count": null,
   "id": "7a4c6d5118ac8c2c",
   "metadata": {},
   "outputs": [],
   "source": [
    "# Task 7\n",
    "n = 3\n",
    "for i in range(n):\n",
    "    print(\"*\" * (2*i + 1))\n"
   ]
  },
  {
   "cell_type": "code",
   "execution_count": null,
   "id": "537bb9d121fc6a99",
   "metadata": {},
   "outputs": [],
   "source": [
    "# Task 8\n",
    "n = 3\n",
    "for i in range(1, n+1):\n",
    "    print(\"*\" * i)\n"
   ]
  },
  {
   "cell_type": "code",
   "execution_count": null,
   "id": "8c72b76f55205507",
   "metadata": {},
   "outputs": [],
   "source": [
    "# Task 9\n",
    "n = 3\n",
    "for i in range(n):\n",
    "    for j in range(n):\n",
    "        if i == j or i + j == n - 1:\n",
    "            print(\"*\", end=\" \")\n",
    "        else:\n",
    "            print(\" \", end=\" \")\n",
    "    print()\n"
   ]
  },
  {
   "cell_type": "code",
   "execution_count": null,
   "id": "34e39ef873597748",
   "metadata": {},
   "outputs": [],
   "source": [
    "# Task 10\n",
    "n = int(input(\"Enter number: \"))\n",
    "for i in range(10, 0, -1):\n",
    "    print(f\"{n} x {i} = {n*i}\")\n"
   ]
  },
  {
   "cell_type": "markdown",
   "id": "5c507260452f1ab",
   "metadata": {},
   "source": [
    "# Chapter 8 : Functions & Recursions"
   ]
  },
  {
   "cell_type": "markdown",
   "id": "c281764f5922e46f",
   "metadata": {},
   "source": [
    "## Tasks\n",
    "1. Write a program using functions to find greatest of three numbers.\n",
    "2. Write a python program using function to convert Celsius to Fahrenheit.\n",
    "3. How do you prevent a python print() function to print a new line at the end.\n",
    "4. Write a recursive function to calculate the sum of first n natural numbers.\n",
    "5. Write a python function to print first n lines of the following pattern:(n=3)\n",
    "```\n",
    "***\n",
    "**\n",
    "*\n",
    "```\n",
    "6. Write a python function which converts inches to cms.\n",
    "7. Write a python function to remove a given word from a list ad strip it at the same\n",
    "time.\n",
    "8. Write a python function to print multiplication table of a given number."
   ]
  },
  {
   "cell_type": "code",
   "execution_count": null,
   "id": "b3723a3c4d80d0ec",
   "metadata": {},
   "outputs": [],
   "source": [
    "# Task 1\n",
    "def greatest(a, b, c):\n",
    "    return max(a, b, c)\n",
    "\n",
    "print(greatest(12, 45, 23))\n"
   ]
  },
  {
   "cell_type": "code",
   "execution_count": null,
   "id": "b95fc6af883c2eae",
   "metadata": {},
   "outputs": [],
   "source": [
    "# Task 2\n",
    "def celsius_to_fahrenheit(c):\n",
    "    return (c * 9/5) + 32\n",
    "\n",
    "print(celsius_to_fahrenheit(37))\n"
   ]
  },
  {
   "cell_type": "code",
   "execution_count": null,
   "id": "edbdd9fed5593a0b",
   "metadata": {},
   "outputs": [],
   "source": [
    "# Task 3\n",
    "print(\"Hello\", end=\" \")  # end parameter prevents newline\n",
    "print(\"World\")\n"
   ]
  },
  {
   "cell_type": "code",
   "execution_count": null,
   "id": "4430adae0b2625b5",
   "metadata": {},
   "outputs": [],
   "source": [
    "# Task 4\n",
    "def recursive_sum(n):\n",
    "    if n == 1:\n",
    "        return 1\n",
    "    return n + recursive_sum(n-1)\n",
    "\n",
    "print(recursive_sum(5))\n"
   ]
  },
  {
   "cell_type": "code",
   "execution_count": null,
   "id": "8f5a0b39c90bcbfd",
   "metadata": {},
   "outputs": [],
   "source": [
    "# Task 5\n",
    "def print_pattern(n):\n",
    "    for i in range(n, 0, -1):\n",
    "        print(\"*\" * i)\n",
    "\n",
    "print_pattern(3)\n"
   ]
  },
  {
   "cell_type": "code",
   "execution_count": null,
   "id": "928a0f0706a8c33d",
   "metadata": {},
   "outputs": [],
   "source": [
    "# Task 6\n",
    "def inches_to_cm(inches):\n",
    "    return inches * 2.54\n",
    "\n",
    "print(inches_to_cm(5))\n"
   ]
  },
  {
   "cell_type": "code",
   "execution_count": null,
   "id": "b0689d8ae3cae5c0",
   "metadata": {},
   "outputs": [],
   "source": [
    "# Task 7\n",
    "def remove_and_strip(lst, word):\n",
    "    return [item.strip() for item in lst if item.strip() != word]\n",
    "\n",
    "print(remove_and_strip([\" apple \", \"banana\", \" mango \", \"apple \"], \"apple\"))\n"
   ]
  },
  {
   "cell_type": "code",
   "execution_count": null,
   "id": "46acc72a259a6838",
   "metadata": {},
   "outputs": [],
   "source": [
    "# Task 8\n",
    "def print_table(n):\n",
    "    for i in range(1, 11):\n",
    "        print(f\"{n} x {i} = {n*i}\")\n",
    "\n",
    "print_table(6)\n"
   ]
  },
  {
   "cell_type": "markdown",
   "id": "82da9fbec937e25a",
   "metadata": {},
   "source": [
    "# Chapter 9 : File I/O (incomplete)"
   ]
  },
  {
   "cell_type": "markdown",
   "id": "91137ef2e0df2d52",
   "metadata": {},
   "source": [
    "## Tasks:\n",
    "1. Write a program to read the text from a given file ‘poems.txt’ and find out\n",
    "whether it contains the word ‘twinkle’.\n",
    "2. The game() function in a program lets a user play a game and returns the score\n",
    "as an integer. You need to read a file ‘Hi-score.txt’ which is either blank or\n",
    "contains the previous Hi-score. You need to write a program to update the Hiscore whenever the game() function breaks the Hi-score.\n",
    "3. Write a program to generate multiplication tables from 2 to 20 and write it to the\n",
    "different files. Place these files in a folder for a 13 – year old.\n",
    "4. A file contains a word “Donkey” multiple times. You need to write a program\n",
    "which replace this word with ##### by updating the same file.\n",
    "5. Repeat program 4 for a list of such words to be censored.\n",
    "6. Write a program to mine a log file and find out whether it contains ‘python’.\n",
    "7. Write a program to find out the line number where python is present from ques 6.\n",
    "8. Write a program to make a copy of a text file “this. txt”\n",
    "9. Write a program to find out whether a file is identical & matches the content of\n",
    "another file.\n",
    "10. Write a program to wipe out the content of a file using python.\n",
    "11. Write a python program to rename a file to \"renamed_by_ python.txt\"."
   ]
  },
  {
   "cell_type": "code",
   "execution_count": null,
   "id": "7fa2f9d400018fc5",
   "metadata": {},
   "outputs": [],
   "source": []
  },
  {
   "cell_type": "markdown",
   "id": "a40e7ca528e5396f",
   "metadata": {},
   "source": [
    "# Chapter 10: OOP"
   ]
  },
  {
   "cell_type": "markdown",
   "id": "bf0977b3b3702442",
   "metadata": {},
   "source": [
    "## Tasks:\n",
    "1. Create a class “Programmer” for storing information of few programmers\n",
    "working at Microsoft.\n",
    "2. Write a class “Calculator” capable of finding square, cube and square root of a\n",
    "number.\n",
    "3. Create a class with a class attribute a; create an object from it and set ‘a’\n",
    "directly using ‘object.a = 0’. Does this change the class attribute?\n",
    "4. Add a static method in problem 2, to greet the user with hello.\n",
    "5. Write a Class ‘Train’ which has methods to book a ticket, get status (no of seats)\n",
    "and get fare information of train running under Indian Railways.\n",
    "6. Can you change the self-parameter inside a class to something else (say\n",
    "“harry”). Try changing self to “slf” or “harry” and see the effects."
   ]
  },
  {
   "cell_type": "code",
   "execution_count": null,
   "id": "3ed9f9fb18e0a759",
   "metadata": {},
   "outputs": [],
   "source": [
    "# Task 1\n",
    "class Programmer:\n",
    "    company = \"Microsoft\"\n",
    "\n",
    "    def __init__(self, name, language):\n",
    "        self.name = name\n",
    "        self.language = language\n",
    "\n",
    "    def show(self):\n",
    "        print(f\"Name: {self.name}, Language: {self.language}, Company: {Programmer.company}\")\n",
    "\n",
    "p1 = Programmer(\"Jake\", \"C\")\n",
    "p2 = Programmer(\"Smith\", \"C++\")\n",
    "\n",
    "p1.show()\n",
    "p2.show()\n",
    "\n",
    "# Why did this approach ?\n",
    "# We have used \"Encapsulation\", grouped related data (name, language, company) and behavior (show()) inside the class. This keeps the data safe and makes the code modular and organized.\n"
   ]
  },
  {
   "cell_type": "code",
   "execution_count": null,
   "id": "159c0f250ee8977f",
   "metadata": {},
   "outputs": [],
   "source": [
    "# Task 2\n",
    "import math\n",
    "\n",
    "class Calculator:\n",
    "\n",
    "    def square(self, num):\n",
    "        return num ** 2\n",
    "\n",
    "    def cube(self, num):\n",
    "        return num ** 3\n",
    "\n",
    "    def sqrt(self, num):\n",
    "        return math.sqrt(num)\n",
    "\n",
    "# Example usage\n",
    "calc = Calculator()\n",
    "print(\"Square:\", calc.square(4))\n",
    "print(\"Cube:\", calc.cube(3))\n",
    "print(\"Square Root:\", calc.sqrt(25))\n"
   ]
  },
  {
   "cell_type": "markdown",
   "id": "a3a003b8ce2caa8a",
   "metadata": {},
   "source": [
    "- Used OOP Principle: Encapsulation + Abstraction\n",
    "- Encapsulation: All mathematical operations are neatly packed in one class.\n",
    "- Abstraction: The user doesn't care how the cube or square is calculated internally — just uses the method."
   ]
  },
  {
   "cell_type": "code",
   "execution_count": null,
   "id": "8f51edc868e63434",
   "metadata": {},
   "outputs": [],
   "source": [
    "# Task 3\n",
    "class Test:\n",
    "    a = 5 # class attribute\n",
    "\n",
    "obj = Test()\n",
    "print(\"Before change: \", obj.a)\n",
    "\n",
    "obj.a = 0 # instance attribute created\n",
    "print(\"After obj.a = 0 ->\")\n",
    "print(\"Test.a:\", Test.a)      # Still 5\n",
    "print(\"obj.a:\", obj.a)        # Now 0"
   ]
  },
  {
   "cell_type": "code",
   "execution_count": null,
   "id": "3285145294ffe310",
   "metadata": {},
   "outputs": [],
   "source": [
    "# Task 4\n",
    "class Calculator:\n",
    "\n",
    "    def square(self, num):\n",
    "        return num ** 2\n",
    "\n",
    "    def cube(self, num):\n",
    "        return num ** 3\n",
    "\n",
    "    def sqrt(self, num):\n",
    "        return math.sqrt(num)\n",
    "\n",
    "    @staticmethod\n",
    "    def greet():\n",
    "        print(\"Hello, welcome to the Calculator!\")\n",
    "\n",
    "# Example usage\n",
    "Calculator.greet()\n"
   ]
  },
  {
   "cell_type": "code",
   "execution_count": null,
   "id": "de3f28ffa37dfc27",
   "metadata": {},
   "outputs": [],
   "source": [
    "# Task 5\n",
    "\n",
    "class Train:\n",
    "    \n",
    "    def __init__(self, name, seats, fare):\n",
    "        self.name = name\n",
    "        self.seats = seats\n",
    "        self.fare = fare\n",
    "    \n",
    "    def book_ticket(self):\n",
    "        if self.seats > 0:\n",
    "            self.seats -= 1\n",
    "            print(f\"Ticket Booked! Seats left: {self.seats}\")\n",
    "        else:\n",
    "            print(f\"Sorry, no seats avaliable.\")\n",
    "    \n",
    "    def get_status(self):\n",
    "        print(f\"Train {self.name} has {self.seats} seats left\")\n",
    "        \n",
    "    def get_fare_info(self):\n",
    "        print(f\"Fare for {self.name} is Rs. {self.fare}\")\n",
    "\n",
    "rajdhani = Train(\"Rajdhani Express\", 2, 1500)\n",
    "rajdhani.get_status()\n",
    "rajdhani.book_ticket()\n",
    "rajdhani.book_ticket()\n",
    "rajdhani.book_ticket()\n",
    "rajdhani.get_fare_info()"
   ]
  },
  {
   "cell_type": "code",
   "execution_count": null,
   "id": "b4894c53",
   "metadata": {},
   "outputs": [],
   "source": [
    "class Demo:\n",
    "    def __init__(test, value):  # self is renamed to 'test'\n",
    "        test.value = value\n",
    "\n",
    "    def show(test):\n",
    "        print(\"Value is:\", test.value)\n",
    "\n",
    "# Example usage\n",
    "d = Demo(100)\n",
    "d.show()\n"
   ]
  },
  {
   "cell_type": "markdown",
   "id": "84ddd1af",
   "metadata": {},
   "source": [
    "# Chapter 11 : More on OOPs"
   ]
  }
 ],
 "metadata": {
  "kernelspec": {
   "display_name": ".venv",
   "language": "python",
   "name": "python3"
  },
  "language_info": {
   "codemirror_mode": {
    "name": "ipython",
    "version": 3
   },
   "file_extension": ".py",
   "mimetype": "text/x-python",
   "name": "python",
   "nbconvert_exporter": "python",
   "pygments_lexer": "ipython3",
   "version": "3.12.4"
  }
 },
 "nbformat": 4,
 "nbformat_minor": 5
}
